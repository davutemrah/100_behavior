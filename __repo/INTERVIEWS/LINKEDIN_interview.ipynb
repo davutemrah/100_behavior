{
 "cells": [
  {
   "cell_type": "markdown",
   "metadata": {},
   "source": [
    "- bias variance tradeoff\n",
    "- bias?\n",
    "- overfitting?\n",
    "- how to mitigate overfitting?\n",
    "- cross validation? how does it work?\n",
    "- important features? how random forest works \n",
    "\n",
    "- xi is normally distributed. derive variance of sample means\n",
    "\n",
    "- sorted array A, apply a function of ax^2 + bx + c where a>0. and create a B array. Discuss time complexity"
   ]
  }
 ],
 "metadata": {
  "kernelspec": {
   "display_name": "Python 3",
   "language": "python",
   "name": "python3"
  },
  "language_info": {
   "codemirror_mode": {
    "name": "ipython",
    "version": 3
   },
   "file_extension": ".py",
   "mimetype": "text/x-python",
   "name": "python",
   "nbconvert_exporter": "python",
   "pygments_lexer": "ipython3",
   "version": "3.10.3"
  }
 },
 "nbformat": 4,
 "nbformat_minor": 2
}
