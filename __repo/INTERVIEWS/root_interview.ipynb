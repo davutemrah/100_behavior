{
 "cells": [
  {
   "cell_type": "markdown",
   "metadata": {},
   "source": [
    "- sample with mean mu and sigma variance, dont know distribution, how do you estimate population parameters, estimate uncertainty\n",
    "- explain how you can use bootstrap\n",
    "- tell me a project where you go and above\n",
    "- upper funnel target audience optimization\n",
    "- visual: camera with theta angle, change phi so that camera see more points. \n",
    "- explain how linear regression work and estimate beta"
   ]
  },
  {
   "cell_type": "code",
   "execution_count": null,
   "metadata": {
    "vscode": {
     "languageId": "plaintext"
    }
   },
   "outputs": [],
   "source": []
  }
 ],
 "metadata": {
  "kernelspec": {
   "display_name": "Python 3",
   "language": "python",
   "name": "python3"
  },
  "language_info": {
   "codemirror_mode": {
    "name": "ipython",
    "version": 3
   },
   "file_extension": ".py",
   "mimetype": "text/x-python",
   "name": "python",
   "nbconvert_exporter": "python",
   "pygments_lexer": "ipython3",
   "version": "3.10.3"
  }
 },
 "nbformat": 4,
 "nbformat_minor": 2
}
